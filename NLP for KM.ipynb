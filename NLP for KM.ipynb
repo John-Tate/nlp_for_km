{
 "cells": [
  {
   "cell_type": "code",
   "execution_count": 98,
   "metadata": {},
   "outputs": [],
   "source": [
    "import pandas as pd\n",
    "from sklearn.feature_extraction.text import CountVectorizer, TfidfVectorizer\n",
    "import matplotlib.pyplot as plt\n",
    "\n",
    "%matplotlib inline"
   ]
  },
  {
   "cell_type": "markdown",
   "metadata": {},
   "source": [
    "# Count Vectorizer"
   ]
  },
  {
   "cell_type": "code",
   "execution_count": 39,
   "metadata": {},
   "outputs": [],
   "source": [
    "strings = [\n",
    "    'hello, my name is John',\n",
    "    'machine learning sure is fun',\n",
    "    'learning text analytics is fun'\n",
    "]"
   ]
  },
  {
   "cell_type": "code",
   "execution_count": 40,
   "metadata": {},
   "outputs": [],
   "source": [
    "cv = CountVectorizer()\n",
    "\n",
    "cv.fit_transform(strings)\n",
    "\n",
    "words = cv.transform(strings)\n",
    "\n",
    "df = pd.DataFrame(words.toarray(),columns=cv.get_feature_names())"
   ]
  },
  {
   "cell_type": "code",
   "execution_count": 41,
   "metadata": {},
   "outputs": [
    {
     "data": {
      "text/html": [
       "<div>\n",
       "<style scoped>\n",
       "    .dataframe tbody tr th:only-of-type {\n",
       "        vertical-align: middle;\n",
       "    }\n",
       "\n",
       "    .dataframe tbody tr th {\n",
       "        vertical-align: top;\n",
       "    }\n",
       "\n",
       "    .dataframe thead th {\n",
       "        text-align: right;\n",
       "    }\n",
       "</style>\n",
       "<table border=\"1\" class=\"dataframe\">\n",
       "  <thead>\n",
       "    <tr style=\"text-align: right;\">\n",
       "      <th></th>\n",
       "      <th>analytics</th>\n",
       "      <th>fun</th>\n",
       "      <th>hello</th>\n",
       "      <th>is</th>\n",
       "      <th>john</th>\n",
       "      <th>learning</th>\n",
       "      <th>machine</th>\n",
       "      <th>my</th>\n",
       "      <th>name</th>\n",
       "      <th>sure</th>\n",
       "      <th>text</th>\n",
       "    </tr>\n",
       "  </thead>\n",
       "  <tbody>\n",
       "    <tr>\n",
       "      <th>0</th>\n",
       "      <td>0</td>\n",
       "      <td>0</td>\n",
       "      <td>1</td>\n",
       "      <td>1</td>\n",
       "      <td>1</td>\n",
       "      <td>0</td>\n",
       "      <td>0</td>\n",
       "      <td>1</td>\n",
       "      <td>1</td>\n",
       "      <td>0</td>\n",
       "      <td>0</td>\n",
       "    </tr>\n",
       "    <tr>\n",
       "      <th>1</th>\n",
       "      <td>0</td>\n",
       "      <td>1</td>\n",
       "      <td>0</td>\n",
       "      <td>1</td>\n",
       "      <td>0</td>\n",
       "      <td>1</td>\n",
       "      <td>1</td>\n",
       "      <td>0</td>\n",
       "      <td>0</td>\n",
       "      <td>1</td>\n",
       "      <td>0</td>\n",
       "    </tr>\n",
       "    <tr>\n",
       "      <th>2</th>\n",
       "      <td>1</td>\n",
       "      <td>1</td>\n",
       "      <td>0</td>\n",
       "      <td>1</td>\n",
       "      <td>0</td>\n",
       "      <td>1</td>\n",
       "      <td>0</td>\n",
       "      <td>0</td>\n",
       "      <td>0</td>\n",
       "      <td>0</td>\n",
       "      <td>1</td>\n",
       "    </tr>\n",
       "  </tbody>\n",
       "</table>\n",
       "</div>"
      ],
      "text/plain": [
       "   analytics  fun  hello  is  john  learning  machine  my  name  sure  text\n",
       "0          0    0      1   1     1         0        0   1     1     0     0\n",
       "1          0    1      0   1     0         1        1   0     0     1     0\n",
       "2          1    1      0   1     0         1        0   0     0     0     1"
      ]
     },
     "execution_count": 41,
     "metadata": {},
     "output_type": "execute_result"
    }
   ],
   "source": [
    "df.head()"
   ]
  },
  {
   "cell_type": "markdown",
   "metadata": {},
   "source": [
    "# TF-IDF"
   ]
  },
  {
   "cell_type": "code",
   "execution_count": 42,
   "metadata": {},
   "outputs": [],
   "source": [
    "tfidf = TfidfVectorizer()\n",
    "\n",
    "tfidf.fit_transform(strings)\n",
    "\n",
    "words2 = tfidf.transform(strings)\n",
    "\n",
    "df2 = pd.DataFrame(words2.toarray(),columns=tfidf.get_feature_names())"
   ]
  },
  {
   "cell_type": "code",
   "execution_count": 43,
   "metadata": {},
   "outputs": [
    {
     "data": {
      "text/html": [
       "<div>\n",
       "<style scoped>\n",
       "    .dataframe tbody tr th:only-of-type {\n",
       "        vertical-align: middle;\n",
       "    }\n",
       "\n",
       "    .dataframe tbody tr th {\n",
       "        vertical-align: top;\n",
       "    }\n",
       "\n",
       "    .dataframe thead th {\n",
       "        text-align: right;\n",
       "    }\n",
       "</style>\n",
       "<table border=\"1\" class=\"dataframe\">\n",
       "  <thead>\n",
       "    <tr style=\"text-align: right;\">\n",
       "      <th></th>\n",
       "      <th>analytics</th>\n",
       "      <th>fun</th>\n",
       "      <th>hello</th>\n",
       "      <th>is</th>\n",
       "      <th>john</th>\n",
       "      <th>learning</th>\n",
       "      <th>machine</th>\n",
       "      <th>my</th>\n",
       "      <th>name</th>\n",
       "      <th>sure</th>\n",
       "      <th>text</th>\n",
       "    </tr>\n",
       "  </thead>\n",
       "  <tbody>\n",
       "    <tr>\n",
       "      <th>0</th>\n",
       "      <td>0.000000</td>\n",
       "      <td>0.000000</td>\n",
       "      <td>0.479528</td>\n",
       "      <td>0.283217</td>\n",
       "      <td>0.479528</td>\n",
       "      <td>0.000000</td>\n",
       "      <td>0.000000</td>\n",
       "      <td>0.479528</td>\n",
       "      <td>0.479528</td>\n",
       "      <td>0.000000</td>\n",
       "      <td>0.000000</td>\n",
       "    </tr>\n",
       "    <tr>\n",
       "      <th>1</th>\n",
       "      <td>0.000000</td>\n",
       "      <td>0.406192</td>\n",
       "      <td>0.000000</td>\n",
       "      <td>0.315444</td>\n",
       "      <td>0.000000</td>\n",
       "      <td>0.406192</td>\n",
       "      <td>0.534093</td>\n",
       "      <td>0.000000</td>\n",
       "      <td>0.000000</td>\n",
       "      <td>0.534093</td>\n",
       "      <td>0.000000</td>\n",
       "    </tr>\n",
       "    <tr>\n",
       "      <th>2</th>\n",
       "      <td>0.534093</td>\n",
       "      <td>0.406192</td>\n",
       "      <td>0.000000</td>\n",
       "      <td>0.315444</td>\n",
       "      <td>0.000000</td>\n",
       "      <td>0.406192</td>\n",
       "      <td>0.000000</td>\n",
       "      <td>0.000000</td>\n",
       "      <td>0.000000</td>\n",
       "      <td>0.000000</td>\n",
       "      <td>0.534093</td>\n",
       "    </tr>\n",
       "  </tbody>\n",
       "</table>\n",
       "</div>"
      ],
      "text/plain": [
       "   analytics       fun     hello        is      john  learning   machine  \\\n",
       "0   0.000000  0.000000  0.479528  0.283217  0.479528  0.000000  0.000000   \n",
       "1   0.000000  0.406192  0.000000  0.315444  0.000000  0.406192  0.534093   \n",
       "2   0.534093  0.406192  0.000000  0.315444  0.000000  0.406192  0.000000   \n",
       "\n",
       "         my      name      sure      text  \n",
       "0  0.479528  0.479528  0.000000  0.000000  \n",
       "1  0.000000  0.000000  0.534093  0.000000  \n",
       "2  0.000000  0.000000  0.000000  0.534093  "
      ]
     },
     "execution_count": 43,
     "metadata": {},
     "output_type": "execute_result"
    }
   ],
   "source": [
    "df2.head()"
   ]
  },
  {
   "cell_type": "markdown",
   "metadata": {},
   "source": [
    "# Document Classification with Naive Bayes"
   ]
  },
  {
   "cell_type": "code",
   "execution_count": 44,
   "metadata": {},
   "outputs": [],
   "source": [
    "from sklearn.model_selection import train_test_split\n",
    "from sklearn.metrics import accuracy_score,roc_auc_score"
   ]
  },
  {
   "cell_type": "code",
   "execution_count": 28,
   "metadata": {},
   "outputs": [],
   "source": [
    "categories = ['alt.atheism', 'soc.religion.christian',\n",
    "               'comp.graphics', 'sci.med']"
   ]
  },
  {
   "cell_type": "code",
   "execution_count": 45,
   "metadata": {},
   "outputs": [
    {
     "name": "stderr",
     "output_type": "stream",
     "text": [
      "Downloading 20news dataset. This may take a few minutes.\n",
      "Downloading dataset from https://ndownloader.figshare.com/files/5975967 (14 MB)\n"
     ]
    }
   ],
   "source": [
    "from sklearn.datasets import fetch_20newsgroups\n",
    "train = fetch_20newsgroups(subset='train',categories=categories, shuffle=True, random_state=42)\n",
    "test = fetch_20newsgroups(subset='test',categories=categories, shuffle=True, random_state=42)"
   ]
  },
  {
   "cell_type": "code",
   "execution_count": 48,
   "metadata": {},
   "outputs": [],
   "source": [
    "from sklearn.naive_bayes import MultinomialNB"
   ]
  },
  {
   "cell_type": "code",
   "execution_count": 71,
   "metadata": {},
   "outputs": [],
   "source": [
    "nb = MultinomialNB()"
   ]
  },
  {
   "cell_type": "code",
   "execution_count": 72,
   "metadata": {},
   "outputs": [],
   "source": [
    "tfidf = TfidfVectorizer()"
   ]
  },
  {
   "cell_type": "code",
   "execution_count": 73,
   "metadata": {},
   "outputs": [],
   "source": [
    "X = train.data\n",
    "y = train.target"
   ]
  },
  {
   "cell_type": "code",
   "execution_count": 74,
   "metadata": {},
   "outputs": [],
   "source": [
    "x_tr,x_te,y_tr,y_te = train_test_split(X,y,random_state=42)"
   ]
  },
  {
   "cell_type": "code",
   "execution_count": 75,
   "metadata": {},
   "outputs": [],
   "source": [
    "x_tr = tfidf.fit_transform(x_tr)\n",
    "x_te = tfidf.transform(x_te)"
   ]
  },
  {
   "cell_type": "code",
   "execution_count": 76,
   "metadata": {},
   "outputs": [
    {
     "data": {
      "text/plain": [
       "MultinomialNB(alpha=1.0, class_prior=None, fit_prior=True)"
      ]
     },
     "execution_count": 76,
     "metadata": {},
     "output_type": "execute_result"
    }
   ],
   "source": [
    "nb.fit(x_tr,y_tr)"
   ]
  },
  {
   "cell_type": "code",
   "execution_count": 77,
   "metadata": {},
   "outputs": [],
   "source": [
    "y_pr = nb.predict(x_te)\n",
    "y_prb = nb.predict_proba(x_te)"
   ]
  },
  {
   "cell_type": "code",
   "execution_count": 78,
   "metadata": {},
   "outputs": [
    {
     "name": "stdout",
     "output_type": "stream",
     "text": [
      "Validation Accuracy:  0.9132743362831859\n"
     ]
    }
   ],
   "source": [
    "print(\"Validation Accuracy: \",accuracy_score(y_te,y_pr))"
   ]
  },
  {
   "cell_type": "code",
   "execution_count": 79,
   "metadata": {},
   "outputs": [],
   "source": [
    "X_TEST = tfidf.transform(test.data)\n",
    "y_pr_test = nb.predict(X_TEST)"
   ]
  },
  {
   "cell_type": "code",
   "execution_count": 80,
   "metadata": {},
   "outputs": [
    {
     "name": "stdout",
     "output_type": "stream",
     "text": [
      "Test Accuracy:  0.8155792276964048\n"
     ]
    }
   ],
   "source": [
    "print(\"Test Accuracy: \",accuracy_score(test.target,y_pr_test))"
   ]
  },
  {
   "cell_type": "code",
   "execution_count": 85,
   "metadata": {},
   "outputs": [
    {
     "data": {
      "text/plain": [
       "MultinomialNB(alpha=1.0, class_prior=None, fit_prior=True)"
      ]
     },
     "execution_count": 85,
     "metadata": {},
     "output_type": "execute_result"
    }
   ],
   "source": [
    "tfidf = TfidfVectorizer()\n",
    "nb = MultinomialNB()\n",
    "\n",
    "tfidf.fit(X)\n",
    "nb.fit(tfidf.transform(X),y)"
   ]
  },
  {
   "cell_type": "code",
   "execution_count": 86,
   "metadata": {},
   "outputs": [
    {
     "name": "stdout",
     "output_type": "stream",
     "text": [
      "Test Accuracy:  0.8348868175765646\n"
     ]
    }
   ],
   "source": [
    "X_TEST = tfidf.transform(test.data)\n",
    "y_pr_test = nb.predict(X_TEST)\n",
    "print(\"Test Accuracy: \",accuracy_score(test.target,y_pr_test))"
   ]
  },
  {
   "cell_type": "code",
   "execution_count": null,
   "metadata": {},
   "outputs": [],
   "source": []
  },
  {
   "cell_type": "code",
   "execution_count": null,
   "metadata": {},
   "outputs": [],
   "source": []
  },
  {
   "cell_type": "markdown",
   "metadata": {},
   "source": [
    "# Topic Modeling with LDA"
   ]
  },
  {
   "cell_type": "code",
   "execution_count": 67,
   "metadata": {},
   "outputs": [],
   "source": [
    "from sklearn.decomposition import LatentDirichletAllocation"
   ]
  },
  {
   "cell_type": "code",
   "execution_count": 147,
   "metadata": {},
   "outputs": [],
   "source": [
    "tfidf = TfidfVectorizer(max_df=0.8,min_df=0.2,stop_words='english')"
   ]
  },
  {
   "cell_type": "code",
   "execution_count": 148,
   "metadata": {},
   "outputs": [],
   "source": [
    "X_tfidf = tfidf.fit_transform(X)"
   ]
  },
  {
   "cell_type": "code",
   "execution_count": 149,
   "metadata": {},
   "outputs": [
    {
     "name": "stdout",
     "output_type": "stream",
     "text": [
      "Topics:  5\n",
      "Perplexity:  38.87395441513845\n",
      "Score:  -18947.038333601016\n",
      "Topics:  10\n",
      "Perplexity:  58.00844713159957\n",
      "Score:  -21018.936754623515\n",
      "Topics:  15\n",
      "Perplexity:  73.1537339857169\n",
      "Score:  -22219.712908271576\n",
      "Topics:  20\n",
      "Perplexity:  89.4340107885772\n",
      "Score:  -23259.8331460793\n",
      "Topics:  25\n",
      "Perplexity:  101.63563844889337\n",
      "Score:  -23921.85024846273\n",
      "Topics:  30\n",
      "Perplexity:  121.29587871083643\n",
      "Score:  -24837.224728370184\n"
     ]
    }
   ],
   "source": [
    "n_topics = [5,10,15,20,25,30]\n",
    "perps = []\n",
    "scores = []\n",
    "\n",
    "for n in n_topics:\n",
    "    \n",
    "    lda = LatentDirichletAllocation(n_components=n)\n",
    "    lda.fit_transform(X_tfidf)\n",
    "    \n",
    "    perplexity = lda.perplexity(X_tfidf)\n",
    "    perps.append(perplexity)\n",
    "    \n",
    "    score = lda.score(X_tfidf)\n",
    "    scores.append(score)\n",
    "    \n",
    "    print(\"Topics: \",n)\n",
    "    print(\"Perplexity: \", perplexity)\n",
    "    print(\"Score: \",lda.score(X_tfidf))"
   ]
  },
  {
   "cell_type": "code",
   "execution_count": 150,
   "metadata": {},
   "outputs": [
    {
     "data": {
      "image/png": "[encoded data removed]",
      "text/plain": [
       "<Figure size 432x288 with 1 Axes>"
      ]
     },
     "metadata": {},
     "output_type": "display_data"
    },
    {
     "data": {
      "image/png": "[encoded data removed]",
      "text/plain": [
       "<Figure size 432x288 with 1 Axes>"
      ]
     },
     "metadata": {},
     "output_type": "display_data"
    }
   ],
   "source": [
    "plt.plot(n_topics,perps,c='b')\n",
    "plt.show()\n",
    "\n",
    "plt.plot(n_topics,[-1*x for x in scores],c='g')\n",
    "plt.show()"
   ]
  },
  {
   "cell_type": "code",
   "execution_count": 151,
   "metadata": {},
   "outputs": [],
   "source": [
    "lda = LatentDirichletAllocation(n_components=5)"
   ]
  },
  {
   "cell_type": "code",
   "execution_count": 152,
   "metadata": {},
   "outputs": [],
   "source": [
    "X_lda = lda.fit_transform(X_tfidf)"
   ]
  },
  {
   "cell_type": "code",
   "execution_count": 153,
   "metadata": {},
   "outputs": [],
   "source": [
    "df_lda = pd.DataFrame(X_lda)"
   ]
  },
  {
   "cell_type": "code",
   "execution_count": 154,
   "metadata": {},
   "outputs": [],
   "source": [
    "df_lda['topic'] = df_lda.idxmax(axis=1)"
   ]
  },
  {
   "cell_type": "code",
   "execution_count": null,
   "metadata": {},
   "outputs": [],
   "source": []
  },
  {
   "cell_type": "code",
   "execution_count": 155,
   "metadata": {},
   "outputs": [],
   "source": [
    "def print_top_words(model, feature_names, n_top_words):\n",
    "    for topic_idx, topic in enumerate(model.components_):\n",
    "        message = \"Topic #%d: \" % topic_idx\n",
    "        message += \" \".join([feature_names[i] for i in topic.argsort()[:-n_top_words - 1:-1]])\n",
    "        print(message)\n",
    "    print()"
   ]
  },
  {
   "cell_type": "code",
   "execution_count": 156,
   "metadata": {},
   "outputs": [
    {
     "name": "stdout",
     "output_type": "stream",
     "text": [
      "Topic #0: edu university article writes reply like com just way does good people think don say time know god posting host\n",
      "Topic #1: god people edu say think just don does writes way time know like com university article good reply posting host\n",
      "Topic #2: know edu good don time does university like just think way writes people article say reply com posting god host\n",
      "Topic #3: posting host nntp edu university writes like does article know just don reply think time way say people com good\n",
      "Topic #4: com writes article don people like know think time edu reply just posting does host nntp way say good university\n",
      "\n"
     ]
    }
   ],
   "source": [
    "print_top_words(lda, tfidf.get_feature_names(), 20)"
   ]
  },
  {
   "cell_type": "code",
   "execution_count": 160,
   "metadata": {},
   "outputs": [
    {
     "data": {
      "text/html": [
       "<div>\n",
       "<style scoped>\n",
       "    .dataframe tbody tr th:only-of-type {\n",
       "        vertical-align: middle;\n",
       "    }\n",
       "\n",
       "    .dataframe tbody tr th {\n",
       "        vertical-align: top;\n",
       "    }\n",
       "\n",
       "    .dataframe thead th {\n",
       "        text-align: right;\n",
       "    }\n",
       "</style>\n",
       "<table border=\"1\" class=\"dataframe\">\n",
       "  <thead>\n",
       "    <tr style=\"text-align: right;\">\n",
       "      <th></th>\n",
       "      <th>0</th>\n",
       "      <th>1</th>\n",
       "      <th>2</th>\n",
       "      <th>3</th>\n",
       "      <th>4</th>\n",
       "      <th>topic</th>\n",
       "    </tr>\n",
       "  </thead>\n",
       "  <tbody>\n",
       "    <tr>\n",
       "      <th>0</th>\n",
       "      <td>0.052065</td>\n",
       "      <td>0.051807</td>\n",
       "      <td>0.480545</td>\n",
       "      <td>0.364026</td>\n",
       "      <td>0.051556</td>\n",
       "      <td>2</td>\n",
       "    </tr>\n",
       "    <tr>\n",
       "      <th>1</th>\n",
       "      <td>0.070191</td>\n",
       "      <td>0.068463</td>\n",
       "      <td>0.724544</td>\n",
       "      <td>0.068895</td>\n",
       "      <td>0.067906</td>\n",
       "      <td>2</td>\n",
       "    </tr>\n",
       "    <tr>\n",
       "      <th>2</th>\n",
       "      <td>0.065467</td>\n",
       "      <td>0.067878</td>\n",
       "      <td>0.735992</td>\n",
       "      <td>0.065037</td>\n",
       "      <td>0.065625</td>\n",
       "      <td>2</td>\n",
       "    </tr>\n",
       "    <tr>\n",
       "      <th>3</th>\n",
       "      <td>0.200000</td>\n",
       "      <td>0.200000</td>\n",
       "      <td>0.200000</td>\n",
       "      <td>0.200000</td>\n",
       "      <td>0.200000</td>\n",
       "      <td>0</td>\n",
       "    </tr>\n",
       "    <tr>\n",
       "      <th>4</th>\n",
       "      <td>0.415976</td>\n",
       "      <td>0.066887</td>\n",
       "      <td>0.067770</td>\n",
       "      <td>0.066742</td>\n",
       "      <td>0.382625</td>\n",
       "      <td>0</td>\n",
       "    </tr>\n",
       "  </tbody>\n",
       "</table>\n",
       "</div>"
      ],
      "text/plain": [
       "          0         1         2         3         4  topic\n",
       "0  0.052065  0.051807  0.480545  0.364026  0.051556      2\n",
       "1  0.070191  0.068463  0.724544  0.068895  0.067906      2\n",
       "2  0.065467  0.067878  0.735992  0.065037  0.065625      2\n",
       "3  0.200000  0.200000  0.200000  0.200000  0.200000      0\n",
       "4  0.415976  0.066887  0.067770  0.066742  0.382625      0"
      ]
     },
     "execution_count": 160,
     "metadata": {},
     "output_type": "execute_result"
    }
   ],
   "source": [
    "df_lda.head()"
   ]
  },
  {
   "cell_type": "code",
   "execution_count": 181,
   "metadata": {},
   "outputs": [],
   "source": [
    "def eval_lda(n):\n",
    "    print(\"Row No: \",n,\"\\n\")\n",
    "    print(\"Topic: \", df_lda.topic[n],\"\\n\")\n",
    "    print(\"Cateogory: \",train.target_names[train.target[n]],\"\\n\")\n",
    "    print(train.data[n])"
   ]
  },
  {
   "cell_type": "code",
   "execution_count": 182,
   "metadata": {},
   "outputs": [],
   "source": [
    "import numpy as np"
   ]
  },
  {
   "cell_type": "code",
   "execution_count": 184,
   "metadata": {},
   "outputs": [
    {
     "name": "stdout",
     "output_type": "stream",
     "text": [
      "Row No:  363 \n",
      "\n",
      "Topic:  2 \n",
      "\n",
      "Cateogory:  comp.graphics \n",
      "\n",
      "From: mdpyssc@fs1.mcc.ac.uk (Sue Cunningham)\n",
      "Subject: Fractals? What good are they ?\n",
      "Organization: Manchester Computing Centre\n",
      "Lines: 5\n",
      "\n",
      "We have been using Iterated Systems compression board to compress \n",
      "pathology images and are getting ratios of 40:1 to 70:1 without too\n",
      "much loss in quality. It is taking about 4 mins per image to compress,\n",
      "on a 25Mhz 486 but decompression is almost real time on a 386 in software \n",
      "alone.\n",
      "\n"
     ]
    }
   ],
   "source": [
    "eval_lda(np.random.randint(0,df_lda.shape[0]))"
   ]
  },
  {
   "cell_type": "code",
   "execution_count": null,
   "metadata": {},
   "outputs": [],
   "source": []
  }
 ],
 "metadata": {
  "kernelspec": {
   "display_name": "Python 3",
   "language": "python",
   "name": "python3"
  },
  "language_info": {
   "codemirror_mode": {
    "name": "ipython",
    "version": 3
   },
   "file_extension": ".py",
   "mimetype": "text/x-python",
   "name": "python",
   "nbconvert_exporter": "python",
   "pygments_lexer": "ipython3",
   "version": "3.6.5"
  }
 },
 "nbformat": 4,
 "nbformat_minor": 2
}
